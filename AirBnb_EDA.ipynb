{
 "cells": [
  {
   "cell_type": "markdown",
   "id": "9014fa80",
   "metadata": {},
   "source": [
    "+ This project aims to explore and analyze a dataset of approximately 48,894 Airbnb listings in order to gain a better understanding of the factors that drive success on the platform.\n",
    "\n",
    "### Breakdown of this notebook:"
   ]
  },
  {
   "cell_type": "markdown",
   "id": "09869574",
   "metadata": {},
   "source": [
    "- Importing libraries\n",
    "* Loading the dataset\n",
    "* Data cleaning\n",
    "* Data visualization"
   ]
  },
  {
   "cell_type": "markdown",
   "id": "0fdd3779",
   "metadata": {},
   "source": [
    "#### Importing libraries"
   ]
  },
  {
   "cell_type": "code",
   "execution_count": 1,
   "id": "ca354fa1",
   "metadata": {},
   "outputs": [],
   "source": [
    "import pandas as pd\n",
    "import numpy as np\n",
    "import seaborn as sns\n",
    "import matplotlib.pyplot as plt"
   ]
  },
  {
   "cell_type": "markdown",
   "id": "aa850e2b",
   "metadata": {},
   "source": [
    "#### Loading dataset"
   ]
  },
  {
   "cell_type": "code",
   "execution_count": 2,
   "id": "585cdc23",
   "metadata": {},
   "outputs": [],
   "source": [
    "df =  pd.read_csv(r\"C:\\Users\\DELL\\Downloads\\Airbnb_dataset.csv\")"
   ]
  },
  {
   "cell_type": "code",
   "execution_count": 3,
   "id": "083a204d",
   "metadata": {},
   "outputs": [
    {
     "data": {
      "text/html": [
       "<div>\n",
       "<style scoped>\n",
       "    .dataframe tbody tr th:only-of-type {\n",
       "        vertical-align: middle;\n",
       "    }\n",
       "\n",
       "    .dataframe tbody tr th {\n",
       "        vertical-align: top;\n",
       "    }\n",
       "\n",
       "    .dataframe thead th {\n",
       "        text-align: right;\n",
       "    }\n",
       "</style>\n",
       "<table border=\"1\" class=\"dataframe\">\n",
       "  <thead>\n",
       "    <tr style=\"text-align: right;\">\n",
       "      <th></th>\n",
       "      <th>id</th>\n",
       "      <th>name</th>\n",
       "      <th>host_id</th>\n",
       "      <th>host_name</th>\n",
       "      <th>neighbourhood_group</th>\n",
       "      <th>neighbourhood</th>\n",
       "      <th>latitude</th>\n",
       "      <th>longitude</th>\n",
       "      <th>room_type</th>\n",
       "      <th>price</th>\n",
       "      <th>minimum_nights</th>\n",
       "      <th>number_of_reviews</th>\n",
       "      <th>last_review</th>\n",
       "      <th>reviews_per_month</th>\n",
       "      <th>calculated_host_listings_count</th>\n",
       "      <th>availability_365</th>\n",
       "    </tr>\n",
       "  </thead>\n",
       "  <tbody>\n",
       "    <tr>\n",
       "      <th>0</th>\n",
       "      <td>2539</td>\n",
       "      <td>Clean &amp; quiet apt home by the park</td>\n",
       "      <td>2787</td>\n",
       "      <td>John</td>\n",
       "      <td>Brooklyn</td>\n",
       "      <td>Kensington</td>\n",
       "      <td>40.64749</td>\n",
       "      <td>-73.97237</td>\n",
       "      <td>Private room</td>\n",
       "      <td>149</td>\n",
       "      <td>1</td>\n",
       "      <td>9</td>\n",
       "      <td>19-10-2018</td>\n",
       "      <td>0.21</td>\n",
       "      <td>6</td>\n",
       "      <td>365</td>\n",
       "    </tr>\n",
       "    <tr>\n",
       "      <th>1</th>\n",
       "      <td>2595</td>\n",
       "      <td>Skylit Midtown Castle</td>\n",
       "      <td>2845</td>\n",
       "      <td>Jennifer</td>\n",
       "      <td>Manhattan</td>\n",
       "      <td>Midtown</td>\n",
       "      <td>40.75362</td>\n",
       "      <td>-73.98377</td>\n",
       "      <td>Entire home/apt</td>\n",
       "      <td>225</td>\n",
       "      <td>1</td>\n",
       "      <td>45</td>\n",
       "      <td>21-05-2019</td>\n",
       "      <td>0.38</td>\n",
       "      <td>2</td>\n",
       "      <td>355</td>\n",
       "    </tr>\n",
       "    <tr>\n",
       "      <th>2</th>\n",
       "      <td>3647</td>\n",
       "      <td>THE VILLAGE OF HARLEM....NEW YORK !</td>\n",
       "      <td>4632</td>\n",
       "      <td>Elisabeth</td>\n",
       "      <td>Manhattan</td>\n",
       "      <td>Harlem</td>\n",
       "      <td>40.80902</td>\n",
       "      <td>-73.94190</td>\n",
       "      <td>Private room</td>\n",
       "      <td>150</td>\n",
       "      <td>3</td>\n",
       "      <td>0</td>\n",
       "      <td>NaN</td>\n",
       "      <td>NaN</td>\n",
       "      <td>1</td>\n",
       "      <td>365</td>\n",
       "    </tr>\n",
       "    <tr>\n",
       "      <th>3</th>\n",
       "      <td>3831</td>\n",
       "      <td>Cozy Entire Floor of Brownstone</td>\n",
       "      <td>4869</td>\n",
       "      <td>LisaRoxanne</td>\n",
       "      <td>Brooklyn</td>\n",
       "      <td>Clinton Hill</td>\n",
       "      <td>40.68514</td>\n",
       "      <td>-73.95976</td>\n",
       "      <td>Entire home/apt</td>\n",
       "      <td>89</td>\n",
       "      <td>1</td>\n",
       "      <td>270</td>\n",
       "      <td>05-07-2019</td>\n",
       "      <td>4.64</td>\n",
       "      <td>1</td>\n",
       "      <td>194</td>\n",
       "    </tr>\n",
       "    <tr>\n",
       "      <th>4</th>\n",
       "      <td>5022</td>\n",
       "      <td>Entire Apt: Spacious Studio/Loft by central park</td>\n",
       "      <td>7192</td>\n",
       "      <td>Laura</td>\n",
       "      <td>Manhattan</td>\n",
       "      <td>East Harlem</td>\n",
       "      <td>40.79851</td>\n",
       "      <td>-73.94399</td>\n",
       "      <td>Entire home/apt</td>\n",
       "      <td>80</td>\n",
       "      <td>10</td>\n",
       "      <td>9</td>\n",
       "      <td>19-11-2018</td>\n",
       "      <td>0.10</td>\n",
       "      <td>1</td>\n",
       "      <td>0</td>\n",
       "    </tr>\n",
       "  </tbody>\n",
       "</table>\n",
       "</div>"
      ],
      "text/plain": [
       "     id                                              name  host_id  \\\n",
       "0  2539                Clean & quiet apt home by the park     2787   \n",
       "1  2595                             Skylit Midtown Castle     2845   \n",
       "2  3647               THE VILLAGE OF HARLEM....NEW YORK !     4632   \n",
       "3  3831                   Cozy Entire Floor of Brownstone     4869   \n",
       "4  5022  Entire Apt: Spacious Studio/Loft by central park     7192   \n",
       "\n",
       "     host_name neighbourhood_group neighbourhood  latitude  longitude  \\\n",
       "0         John            Brooklyn    Kensington  40.64749  -73.97237   \n",
       "1     Jennifer           Manhattan       Midtown  40.75362  -73.98377   \n",
       "2    Elisabeth           Manhattan        Harlem  40.80902  -73.94190   \n",
       "3  LisaRoxanne            Brooklyn  Clinton Hill  40.68514  -73.95976   \n",
       "4        Laura           Manhattan   East Harlem  40.79851  -73.94399   \n",
       "\n",
       "         room_type  price  minimum_nights  number_of_reviews last_review  \\\n",
       "0     Private room    149               1                  9  19-10-2018   \n",
       "1  Entire home/apt    225               1                 45  21-05-2019   \n",
       "2     Private room    150               3                  0         NaN   \n",
       "3  Entire home/apt     89               1                270  05-07-2019   \n",
       "4  Entire home/apt     80              10                  9  19-11-2018   \n",
       "\n",
       "   reviews_per_month  calculated_host_listings_count  availability_365  \n",
       "0               0.21                               6               365  \n",
       "1               0.38                               2               355  \n",
       "2                NaN                               1               365  \n",
       "3               4.64                               1               194  \n",
       "4               0.10                               1                 0  "
      ]
     },
     "execution_count": 3,
     "metadata": {},
     "output_type": "execute_result"
    }
   ],
   "source": [
    "df.head()"
   ]
  },
  {
   "cell_type": "code",
   "execution_count": 4,
   "id": "a7e50940",
   "metadata": {},
   "outputs": [
    {
     "data": {
      "text/html": [
       "<div>\n",
       "<style scoped>\n",
       "    .dataframe tbody tr th:only-of-type {\n",
       "        vertical-align: middle;\n",
       "    }\n",
       "\n",
       "    .dataframe tbody tr th {\n",
       "        vertical-align: top;\n",
       "    }\n",
       "\n",
       "    .dataframe thead th {\n",
       "        text-align: right;\n",
       "    }\n",
       "</style>\n",
       "<table border=\"1\" class=\"dataframe\">\n",
       "  <thead>\n",
       "    <tr style=\"text-align: right;\">\n",
       "      <th></th>\n",
       "      <th>id</th>\n",
       "      <th>name</th>\n",
       "      <th>host_id</th>\n",
       "      <th>host_name</th>\n",
       "      <th>neighbourhood_group</th>\n",
       "      <th>neighbourhood</th>\n",
       "      <th>latitude</th>\n",
       "      <th>longitude</th>\n",
       "      <th>room_type</th>\n",
       "      <th>price</th>\n",
       "      <th>minimum_nights</th>\n",
       "      <th>number_of_reviews</th>\n",
       "      <th>last_review</th>\n",
       "      <th>reviews_per_month</th>\n",
       "      <th>calculated_host_listings_count</th>\n",
       "      <th>availability_365</th>\n",
       "    </tr>\n",
       "  </thead>\n",
       "  <tbody>\n",
       "    <tr>\n",
       "      <th>48885</th>\n",
       "      <td>36482809</td>\n",
       "      <td>Stunning Bedroom NYC! Walking to Central Park!!</td>\n",
       "      <td>131529729</td>\n",
       "      <td>Kendall</td>\n",
       "      <td>Manhattan</td>\n",
       "      <td>East Harlem</td>\n",
       "      <td>40.79633</td>\n",
       "      <td>-73.93605</td>\n",
       "      <td>Private room</td>\n",
       "      <td>75</td>\n",
       "      <td>2</td>\n",
       "      <td>0</td>\n",
       "      <td>NaN</td>\n",
       "      <td>NaN</td>\n",
       "      <td>2</td>\n",
       "      <td>353</td>\n",
       "    </tr>\n",
       "    <tr>\n",
       "      <th>48886</th>\n",
       "      <td>36483010</td>\n",
       "      <td>Comfy 1 Bedroom in Midtown East</td>\n",
       "      <td>274311461</td>\n",
       "      <td>Scott</td>\n",
       "      <td>Manhattan</td>\n",
       "      <td>Midtown</td>\n",
       "      <td>40.75561</td>\n",
       "      <td>-73.96723</td>\n",
       "      <td>Entire home/apt</td>\n",
       "      <td>200</td>\n",
       "      <td>6</td>\n",
       "      <td>0</td>\n",
       "      <td>NaN</td>\n",
       "      <td>NaN</td>\n",
       "      <td>1</td>\n",
       "      <td>176</td>\n",
       "    </tr>\n",
       "    <tr>\n",
       "      <th>48887</th>\n",
       "      <td>36483152</td>\n",
       "      <td>Garden Jewel Apartment in Williamsburg New York</td>\n",
       "      <td>208514239</td>\n",
       "      <td>Melki</td>\n",
       "      <td>Brooklyn</td>\n",
       "      <td>Williamsburg</td>\n",
       "      <td>40.71232</td>\n",
       "      <td>-73.94220</td>\n",
       "      <td>Entire home/apt</td>\n",
       "      <td>170</td>\n",
       "      <td>1</td>\n",
       "      <td>0</td>\n",
       "      <td>NaN</td>\n",
       "      <td>NaN</td>\n",
       "      <td>3</td>\n",
       "      <td>365</td>\n",
       "    </tr>\n",
       "    <tr>\n",
       "      <th>48888</th>\n",
       "      <td>36484087</td>\n",
       "      <td>Spacious Room w/ Private Rooftop, Central loca...</td>\n",
       "      <td>274321313</td>\n",
       "      <td>Kat</td>\n",
       "      <td>Manhattan</td>\n",
       "      <td>Hell's Kitchen</td>\n",
       "      <td>40.76392</td>\n",
       "      <td>-73.99183</td>\n",
       "      <td>Private room</td>\n",
       "      <td>125</td>\n",
       "      <td>4</td>\n",
       "      <td>0</td>\n",
       "      <td>NaN</td>\n",
       "      <td>NaN</td>\n",
       "      <td>1</td>\n",
       "      <td>31</td>\n",
       "    </tr>\n",
       "    <tr>\n",
       "      <th>48889</th>\n",
       "      <td>36484363</td>\n",
       "      <td>QUIT PRIVATE HOUSE</td>\n",
       "      <td>107716952</td>\n",
       "      <td>Michael</td>\n",
       "      <td>Queens</td>\n",
       "      <td>Jamaica</td>\n",
       "      <td>40.69137</td>\n",
       "      <td>-73.80844</td>\n",
       "      <td>Private room</td>\n",
       "      <td>65</td>\n",
       "      <td>1</td>\n",
       "      <td>0</td>\n",
       "      <td>NaN</td>\n",
       "      <td>NaN</td>\n",
       "      <td>2</td>\n",
       "      <td>163</td>\n",
       "    </tr>\n",
       "    <tr>\n",
       "      <th>48890</th>\n",
       "      <td>36484665</td>\n",
       "      <td>Charming one bedroom - newly renovated rowhouse</td>\n",
       "      <td>8232441</td>\n",
       "      <td>Sabrina</td>\n",
       "      <td>Brooklyn</td>\n",
       "      <td>Bedford-Stuyvesant</td>\n",
       "      <td>40.67853</td>\n",
       "      <td>-73.94995</td>\n",
       "      <td>Private room</td>\n",
       "      <td>70</td>\n",
       "      <td>2</td>\n",
       "      <td>0</td>\n",
       "      <td>NaN</td>\n",
       "      <td>NaN</td>\n",
       "      <td>2</td>\n",
       "      <td>9</td>\n",
       "    </tr>\n",
       "    <tr>\n",
       "      <th>48891</th>\n",
       "      <td>36485057</td>\n",
       "      <td>Affordable room in Bushwick/East Williamsburg</td>\n",
       "      <td>6570630</td>\n",
       "      <td>Marisol</td>\n",
       "      <td>Brooklyn</td>\n",
       "      <td>Bushwick</td>\n",
       "      <td>40.70184</td>\n",
       "      <td>-73.93317</td>\n",
       "      <td>Private room</td>\n",
       "      <td>40</td>\n",
       "      <td>4</td>\n",
       "      <td>0</td>\n",
       "      <td>NaN</td>\n",
       "      <td>NaN</td>\n",
       "      <td>2</td>\n",
       "      <td>36</td>\n",
       "    </tr>\n",
       "    <tr>\n",
       "      <th>48892</th>\n",
       "      <td>36485431</td>\n",
       "      <td>Sunny Studio at Historical Neighborhood</td>\n",
       "      <td>23492952</td>\n",
       "      <td>Ilgar &amp; Aysel</td>\n",
       "      <td>Manhattan</td>\n",
       "      <td>Harlem</td>\n",
       "      <td>40.81475</td>\n",
       "      <td>-73.94867</td>\n",
       "      <td>Entire home/apt</td>\n",
       "      <td>115</td>\n",
       "      <td>10</td>\n",
       "      <td>0</td>\n",
       "      <td>NaN</td>\n",
       "      <td>NaN</td>\n",
       "      <td>1</td>\n",
       "      <td>27</td>\n",
       "    </tr>\n",
       "    <tr>\n",
       "      <th>48893</th>\n",
       "      <td>36485609</td>\n",
       "      <td>43rd St. Time Square-cozy single bed</td>\n",
       "      <td>30985759</td>\n",
       "      <td>Taz</td>\n",
       "      <td>Manhattan</td>\n",
       "      <td>Hell's Kitchen</td>\n",
       "      <td>40.75751</td>\n",
       "      <td>-73.99112</td>\n",
       "      <td>Shared room</td>\n",
       "      <td>55</td>\n",
       "      <td>1</td>\n",
       "      <td>0</td>\n",
       "      <td>NaN</td>\n",
       "      <td>NaN</td>\n",
       "      <td>6</td>\n",
       "      <td>2</td>\n",
       "    </tr>\n",
       "    <tr>\n",
       "      <th>48894</th>\n",
       "      <td>36487245</td>\n",
       "      <td>Trendy duplex in the very heart of Hell's Kitchen</td>\n",
       "      <td>68119814</td>\n",
       "      <td>Christophe</td>\n",
       "      <td>Manhattan</td>\n",
       "      <td>Hell's Kitchen</td>\n",
       "      <td>40.76404</td>\n",
       "      <td>-73.98933</td>\n",
       "      <td>Private room</td>\n",
       "      <td>90</td>\n",
       "      <td>7</td>\n",
       "      <td>0</td>\n",
       "      <td>NaN</td>\n",
       "      <td>NaN</td>\n",
       "      <td>1</td>\n",
       "      <td>23</td>\n",
       "    </tr>\n",
       "  </tbody>\n",
       "</table>\n",
       "</div>"
      ],
      "text/plain": [
       "             id                                               name    host_id  \\\n",
       "48885  36482809    Stunning Bedroom NYC! Walking to Central Park!!  131529729   \n",
       "48886  36483010                    Comfy 1 Bedroom in Midtown East  274311461   \n",
       "48887  36483152    Garden Jewel Apartment in Williamsburg New York  208514239   \n",
       "48888  36484087  Spacious Room w/ Private Rooftop, Central loca...  274321313   \n",
       "48889  36484363                                 QUIT PRIVATE HOUSE  107716952   \n",
       "48890  36484665    Charming one bedroom - newly renovated rowhouse    8232441   \n",
       "48891  36485057      Affordable room in Bushwick/East Williamsburg    6570630   \n",
       "48892  36485431            Sunny Studio at Historical Neighborhood   23492952   \n",
       "48893  36485609               43rd St. Time Square-cozy single bed   30985759   \n",
       "48894  36487245  Trendy duplex in the very heart of Hell's Kitchen   68119814   \n",
       "\n",
       "           host_name neighbourhood_group       neighbourhood  latitude  \\\n",
       "48885        Kendall           Manhattan         East Harlem  40.79633   \n",
       "48886          Scott           Manhattan             Midtown  40.75561   \n",
       "48887          Melki            Brooklyn        Williamsburg  40.71232   \n",
       "48888            Kat           Manhattan      Hell's Kitchen  40.76392   \n",
       "48889        Michael              Queens             Jamaica  40.69137   \n",
       "48890        Sabrina            Brooklyn  Bedford-Stuyvesant  40.67853   \n",
       "48891        Marisol            Brooklyn            Bushwick  40.70184   \n",
       "48892  Ilgar & Aysel           Manhattan              Harlem  40.81475   \n",
       "48893            Taz           Manhattan      Hell's Kitchen  40.75751   \n",
       "48894     Christophe           Manhattan      Hell's Kitchen  40.76404   \n",
       "\n",
       "       longitude        room_type  price  minimum_nights  number_of_reviews  \\\n",
       "48885  -73.93605     Private room     75               2                  0   \n",
       "48886  -73.96723  Entire home/apt    200               6                  0   \n",
       "48887  -73.94220  Entire home/apt    170               1                  0   \n",
       "48888  -73.99183     Private room    125               4                  0   \n",
       "48889  -73.80844     Private room     65               1                  0   \n",
       "48890  -73.94995     Private room     70               2                  0   \n",
       "48891  -73.93317     Private room     40               4                  0   \n",
       "48892  -73.94867  Entire home/apt    115              10                  0   \n",
       "48893  -73.99112      Shared room     55               1                  0   \n",
       "48894  -73.98933     Private room     90               7                  0   \n",
       "\n",
       "      last_review  reviews_per_month  calculated_host_listings_count  \\\n",
       "48885         NaN                NaN                               2   \n",
       "48886         NaN                NaN                               1   \n",
       "48887         NaN                NaN                               3   \n",
       "48888         NaN                NaN                               1   \n",
       "48889         NaN                NaN                               2   \n",
       "48890         NaN                NaN                               2   \n",
       "48891         NaN                NaN                               2   \n",
       "48892         NaN                NaN                               1   \n",
       "48893         NaN                NaN                               6   \n",
       "48894         NaN                NaN                               1   \n",
       "\n",
       "       availability_365  \n",
       "48885               353  \n",
       "48886               176  \n",
       "48887               365  \n",
       "48888                31  \n",
       "48889               163  \n",
       "48890                 9  \n",
       "48891                36  \n",
       "48892                27  \n",
       "48893                 2  \n",
       "48894                23  "
      ]
     },
     "execution_count": 4,
     "metadata": {},
     "output_type": "execute_result"
    }
   ],
   "source": [
    "df.tail(10)"
   ]
  },
  {
   "cell_type": "code",
   "execution_count": 5,
   "id": "443bd3e2",
   "metadata": {},
   "outputs": [
    {
     "name": "stdout",
     "output_type": "stream",
     "text": [
      "<class 'pandas.core.frame.DataFrame'>\n",
      "RangeIndex: 48895 entries, 0 to 48894\n",
      "Data columns (total 16 columns):\n",
      " #   Column                          Non-Null Count  Dtype  \n",
      "---  ------                          --------------  -----  \n",
      " 0   id                              48895 non-null  int64  \n",
      " 1   name                            48879 non-null  object \n",
      " 2   host_id                         48895 non-null  int64  \n",
      " 3   host_name                       48874 non-null  object \n",
      " 4   neighbourhood_group             48895 non-null  object \n",
      " 5   neighbourhood                   48895 non-null  object \n",
      " 6   latitude                        48895 non-null  float64\n",
      " 7   longitude                       48895 non-null  float64\n",
      " 8   room_type                       48895 non-null  object \n",
      " 9   price                           48895 non-null  int64  \n",
      " 10  minimum_nights                  48895 non-null  int64  \n",
      " 11  number_of_reviews               48895 non-null  int64  \n",
      " 12  last_review                     38843 non-null  object \n",
      " 13  reviews_per_month               38843 non-null  float64\n",
      " 14  calculated_host_listings_count  48895 non-null  int64  \n",
      " 15  availability_365                48895 non-null  int64  \n",
      "dtypes: float64(3), int64(7), object(6)\n",
      "memory usage: 6.0+ MB\n"
     ]
    }
   ],
   "source": [
    "df.info()"
   ]
  },
  {
   "cell_type": "markdown",
   "id": "5dc16f9a",
   "metadata": {},
   "source": [
    "*  This dataset has around 49,000 observations in it with 16 columns"
   ]
  },
  {
   "cell_type": "markdown",
   "id": "2c98fe7a",
   "metadata": {},
   "source": [
    "###### Checking Duplicates"
   ]
  },
  {
   "cell_type": "code",
   "execution_count": 6,
   "id": "0183e7b8",
   "metadata": {},
   "outputs": [
    {
     "data": {
      "text/plain": [
       "0"
      ]
     },
     "execution_count": 6,
     "metadata": {},
     "output_type": "execute_result"
    }
   ],
   "source": [
    "df.duplicated().sum()"
   ]
  },
  {
   "cell_type": "markdown",
   "id": "3a5efde0",
   "metadata": {},
   "source": [
    "\n",
    "\n",
    "- No duplicates found"
   ]
  },
  {
   "cell_type": "markdown",
   "id": "751af016",
   "metadata": {},
   "source": [
    "###### Null values"
   ]
  },
  {
   "cell_type": "code",
   "execution_count": 7,
   "id": "42b4a7c1",
   "metadata": {},
   "outputs": [
    {
     "data": {
      "text/plain": [
       "id                                    0\n",
       "name                                 16\n",
       "host_id                               0\n",
       "host_name                            21\n",
       "neighbourhood_group                   0\n",
       "neighbourhood                         0\n",
       "latitude                              0\n",
       "longitude                             0\n",
       "room_type                             0\n",
       "price                                 0\n",
       "minimum_nights                        0\n",
       "number_of_reviews                     0\n",
       "last_review                       10052\n",
       "reviews_per_month                 10052\n",
       "calculated_host_listings_count        0\n",
       "availability_365                      0\n",
       "dtype: int64"
      ]
     },
     "execution_count": 7,
     "metadata": {},
     "output_type": "execute_result"
    }
   ],
   "source": [
    "\n",
    "df.isnull().sum()"
   ]
  },
  {
   "cell_type": "markdown",
   "id": "a279ae81",
   "metadata": {},
   "source": [
    "- As we can see that we have 16 null values in 'name' column, 21 null values in 'host_name' and 10052 null values each in 'last_review' and 'reviews_per_month'."
   ]
  },
  {
   "cell_type": "markdown",
   "id": "9fba1e26",
   "metadata": {},
   "source": [
    "###### Handling null values"
   ]
  },
  {
   "cell_type": "code",
   "execution_count": 8,
   "id": "605e0f13",
   "metadata": {},
   "outputs": [],
   "source": [
    "df.fillna({'reviews_per_month': 0},inplace =True)\n",
    "df.fillna({'name': \"no name\"},inplace = True)\n",
    "df.fillna({'host_name':\"no host name:\"},inplace =True)\n",
    "df.fillna({'last_review': \"notreviewed\"},inplace = True)"
   ]
  },
  {
   "cell_type": "code",
   "execution_count": 9,
   "id": "0ae88c53",
   "metadata": {},
   "outputs": [
    {
     "data": {
      "text/plain": [
       "id                                0\n",
       "name                              0\n",
       "host_id                           0\n",
       "host_name                         0\n",
       "neighbourhood_group               0\n",
       "neighbourhood                     0\n",
       "latitude                          0\n",
       "longitude                         0\n",
       "room_type                         0\n",
       "price                             0\n",
       "minimum_nights                    0\n",
       "number_of_reviews                 0\n",
       "last_review                       0\n",
       "reviews_per_month                 0\n",
       "calculated_host_listings_count    0\n",
       "availability_365                  0\n",
       "dtype: int64"
      ]
     },
     "execution_count": 9,
     "metadata": {},
     "output_type": "execute_result"
    }
   ],
   "source": [
    "#make sure to check it again\n",
    "\n",
    "df.isnull().sum()"
   ]
  },
  {
   "cell_type": "markdown",
   "id": "fd0f79c9",
   "metadata": {},
   "source": [
    "######  Dropping the unnecessary columns"
   ]
  },
  {
   "cell_type": "code",
   "execution_count": 10,
   "id": "9412da8e",
   "metadata": {},
   "outputs": [],
   "source": [
    "df.drop(['name','last_review', 'reviews_per_month','latitude','longitude'], axis = 1 , inplace = True)"
   ]
  },
  {
   "cell_type": "markdown",
   "id": "893766bd",
   "metadata": {},
   "source": [
    "###### Examine changes"
   ]
  },
  {
   "cell_type": "code",
   "execution_count": 11,
   "id": "7875dec4",
   "metadata": {},
   "outputs": [
    {
     "data": {
      "text/html": [
       "<div>\n",
       "<style scoped>\n",
       "    .dataframe tbody tr th:only-of-type {\n",
       "        vertical-align: middle;\n",
       "    }\n",
       "\n",
       "    .dataframe tbody tr th {\n",
       "        vertical-align: top;\n",
       "    }\n",
       "\n",
       "    .dataframe thead th {\n",
       "        text-align: right;\n",
       "    }\n",
       "</style>\n",
       "<table border=\"1\" class=\"dataframe\">\n",
       "  <thead>\n",
       "    <tr style=\"text-align: right;\">\n",
       "      <th></th>\n",
       "      <th>id</th>\n",
       "      <th>host_id</th>\n",
       "      <th>host_name</th>\n",
       "      <th>neighbourhood_group</th>\n",
       "      <th>neighbourhood</th>\n",
       "      <th>room_type</th>\n",
       "      <th>price</th>\n",
       "      <th>minimum_nights</th>\n",
       "      <th>number_of_reviews</th>\n",
       "      <th>calculated_host_listings_count</th>\n",
       "      <th>availability_365</th>\n",
       "    </tr>\n",
       "  </thead>\n",
       "  <tbody>\n",
       "    <tr>\n",
       "      <th>0</th>\n",
       "      <td>2539</td>\n",
       "      <td>2787</td>\n",
       "      <td>John</td>\n",
       "      <td>Brooklyn</td>\n",
       "      <td>Kensington</td>\n",
       "      <td>Private room</td>\n",
       "      <td>149</td>\n",
       "      <td>1</td>\n",
       "      <td>9</td>\n",
       "      <td>6</td>\n",
       "      <td>365</td>\n",
       "    </tr>\n",
       "    <tr>\n",
       "      <th>1</th>\n",
       "      <td>2595</td>\n",
       "      <td>2845</td>\n",
       "      <td>Jennifer</td>\n",
       "      <td>Manhattan</td>\n",
       "      <td>Midtown</td>\n",
       "      <td>Entire home/apt</td>\n",
       "      <td>225</td>\n",
       "      <td>1</td>\n",
       "      <td>45</td>\n",
       "      <td>2</td>\n",
       "      <td>355</td>\n",
       "    </tr>\n",
       "    <tr>\n",
       "      <th>2</th>\n",
       "      <td>3647</td>\n",
       "      <td>4632</td>\n",
       "      <td>Elisabeth</td>\n",
       "      <td>Manhattan</td>\n",
       "      <td>Harlem</td>\n",
       "      <td>Private room</td>\n",
       "      <td>150</td>\n",
       "      <td>3</td>\n",
       "      <td>0</td>\n",
       "      <td>1</td>\n",
       "      <td>365</td>\n",
       "    </tr>\n",
       "    <tr>\n",
       "      <th>3</th>\n",
       "      <td>3831</td>\n",
       "      <td>4869</td>\n",
       "      <td>LisaRoxanne</td>\n",
       "      <td>Brooklyn</td>\n",
       "      <td>Clinton Hill</td>\n",
       "      <td>Entire home/apt</td>\n",
       "      <td>89</td>\n",
       "      <td>1</td>\n",
       "      <td>270</td>\n",
       "      <td>1</td>\n",
       "      <td>194</td>\n",
       "    </tr>\n",
       "    <tr>\n",
       "      <th>4</th>\n",
       "      <td>5022</td>\n",
       "      <td>7192</td>\n",
       "      <td>Laura</td>\n",
       "      <td>Manhattan</td>\n",
       "      <td>East Harlem</td>\n",
       "      <td>Entire home/apt</td>\n",
       "      <td>80</td>\n",
       "      <td>10</td>\n",
       "      <td>9</td>\n",
       "      <td>1</td>\n",
       "      <td>0</td>\n",
       "    </tr>\n",
       "  </tbody>\n",
       "</table>\n",
       "</div>"
      ],
      "text/plain": [
       "     id  host_id    host_name neighbourhood_group neighbourhood  \\\n",
       "0  2539     2787         John            Brooklyn    Kensington   \n",
       "1  2595     2845     Jennifer           Manhattan       Midtown   \n",
       "2  3647     4632    Elisabeth           Manhattan        Harlem   \n",
       "3  3831     4869  LisaRoxanne            Brooklyn  Clinton Hill   \n",
       "4  5022     7192        Laura           Manhattan   East Harlem   \n",
       "\n",
       "         room_type  price  minimum_nights  number_of_reviews  \\\n",
       "0     Private room    149               1                  9   \n",
       "1  Entire home/apt    225               1                 45   \n",
       "2     Private room    150               3                  0   \n",
       "3  Entire home/apt     89               1                270   \n",
       "4  Entire home/apt     80              10                  9   \n",
       "\n",
       "   calculated_host_listings_count  availability_365  \n",
       "0                               6               365  \n",
       "1                               2               355  \n",
       "2                               1               365  \n",
       "3                               1               194  \n",
       "4                               1                 0  "
      ]
     },
     "execution_count": 11,
     "metadata": {},
     "output_type": "execute_result"
    }
   ],
   "source": [
    "df.head()"
   ]
  },
  {
   "cell_type": "code",
   "execution_count": 12,
   "id": "4bf4a674",
   "metadata": {},
   "outputs": [
    {
     "data": {
      "text/plain": [
       "['id',\n",
       " 'host_id',\n",
       " 'host_name',\n",
       " 'neighbourhood_group',\n",
       " 'neighbourhood',\n",
       " 'room_type',\n",
       " 'price',\n",
       " 'minimum_nights',\n",
       " 'number_of_reviews',\n",
       " 'calculated_host_listings_count',\n",
       " 'availability_365']"
      ]
     },
     "execution_count": 12,
     "metadata": {},
     "output_type": "execute_result"
    }
   ],
   "source": [
    "df.columns.to_list()"
   ]
  },
  {
   "cell_type": "markdown",
   "id": "f91feb55",
   "metadata": {},
   "source": [
    "##### Count room_type"
   ]
  },
  {
   "cell_type": "code",
   "execution_count": 13,
   "id": "9e51ed31",
   "metadata": {},
   "outputs": [
    {
     "data": {
      "text/plain": [
       "Entire home/apt    25409\n",
       "Private room       22326\n",
       "Shared room         1160\n",
       "Name: room_type, dtype: int64"
      ]
     },
     "execution_count": 13,
     "metadata": {},
     "output_type": "execute_result"
    }
   ],
   "source": [
    "df['room_type'].value_counts()"
   ]
  },
  {
   "cell_type": "markdown",
   "id": "c2c090d9",
   "metadata": {},
   "source": [
    "- Most listings are either Entire home or Private room"
   ]
  },
  {
   "cell_type": "markdown",
   "id": "2a52f53e",
   "metadata": {},
   "source": [
    "##### Average price per room_type"
   ]
  },
  {
   "cell_type": "code",
   "execution_count": 14,
   "id": "64a850c4",
   "metadata": {},
   "outputs": [
    {
     "data": {
      "text/plain": [
       "room_type\n",
       "Entire home/apt    211.794246\n",
       "Private room        89.780973\n",
       "Shared room         70.127586\n",
       "Name: price, dtype: float64"
      ]
     },
     "execution_count": 14,
     "metadata": {},
     "output_type": "execute_result"
    }
   ],
   "source": [
    "df.groupby(\"room_type\")[\"price\"].mean()"
   ]
  },
  {
   "cell_type": "markdown",
   "id": "40900c01",
   "metadata": {},
   "source": [
    "- Entire room has the highest price and shared room has lowest avg price which makes sense."
   ]
  },
  {
   "cell_type": "code",
   "execution_count": 15,
   "id": "300e7ddb",
   "metadata": {},
   "outputs": [
    {
     "data": {
      "text/html": [
       "<div>\n",
       "<style scoped>\n",
       "    .dataframe tbody tr th:only-of-type {\n",
       "        vertical-align: middle;\n",
       "    }\n",
       "\n",
       "    .dataframe tbody tr th {\n",
       "        vertical-align: top;\n",
       "    }\n",
       "\n",
       "    .dataframe thead th {\n",
       "        text-align: right;\n",
       "    }\n",
       "</style>\n",
       "<table border=\"1\" class=\"dataframe\">\n",
       "  <thead>\n",
       "    <tr style=\"text-align: right;\">\n",
       "      <th></th>\n",
       "      <th>id</th>\n",
       "      <th>host_id</th>\n",
       "      <th>price</th>\n",
       "      <th>minimum_nights</th>\n",
       "      <th>number_of_reviews</th>\n",
       "      <th>calculated_host_listings_count</th>\n",
       "      <th>availability_365</th>\n",
       "    </tr>\n",
       "  </thead>\n",
       "  <tbody>\n",
       "    <tr>\n",
       "      <th>count</th>\n",
       "      <td>4.889500e+04</td>\n",
       "      <td>4.889500e+04</td>\n",
       "      <td>48895.000000</td>\n",
       "      <td>48895.000000</td>\n",
       "      <td>48895.000000</td>\n",
       "      <td>48895.000000</td>\n",
       "      <td>48895.000000</td>\n",
       "    </tr>\n",
       "    <tr>\n",
       "      <th>mean</th>\n",
       "      <td>1.901714e+07</td>\n",
       "      <td>6.762001e+07</td>\n",
       "      <td>152.720687</td>\n",
       "      <td>7.029962</td>\n",
       "      <td>23.274466</td>\n",
       "      <td>7.143982</td>\n",
       "      <td>112.781327</td>\n",
       "    </tr>\n",
       "    <tr>\n",
       "      <th>std</th>\n",
       "      <td>1.098311e+07</td>\n",
       "      <td>7.861097e+07</td>\n",
       "      <td>240.154170</td>\n",
       "      <td>20.510550</td>\n",
       "      <td>44.550582</td>\n",
       "      <td>32.952519</td>\n",
       "      <td>131.622289</td>\n",
       "    </tr>\n",
       "    <tr>\n",
       "      <th>min</th>\n",
       "      <td>2.539000e+03</td>\n",
       "      <td>2.438000e+03</td>\n",
       "      <td>0.000000</td>\n",
       "      <td>1.000000</td>\n",
       "      <td>0.000000</td>\n",
       "      <td>1.000000</td>\n",
       "      <td>0.000000</td>\n",
       "    </tr>\n",
       "    <tr>\n",
       "      <th>25%</th>\n",
       "      <td>9.471945e+06</td>\n",
       "      <td>7.822033e+06</td>\n",
       "      <td>69.000000</td>\n",
       "      <td>1.000000</td>\n",
       "      <td>1.000000</td>\n",
       "      <td>1.000000</td>\n",
       "      <td>0.000000</td>\n",
       "    </tr>\n",
       "    <tr>\n",
       "      <th>50%</th>\n",
       "      <td>1.967728e+07</td>\n",
       "      <td>3.079382e+07</td>\n",
       "      <td>106.000000</td>\n",
       "      <td>3.000000</td>\n",
       "      <td>5.000000</td>\n",
       "      <td>1.000000</td>\n",
       "      <td>45.000000</td>\n",
       "    </tr>\n",
       "    <tr>\n",
       "      <th>75%</th>\n",
       "      <td>2.915218e+07</td>\n",
       "      <td>1.074344e+08</td>\n",
       "      <td>175.000000</td>\n",
       "      <td>5.000000</td>\n",
       "      <td>24.000000</td>\n",
       "      <td>2.000000</td>\n",
       "      <td>227.000000</td>\n",
       "    </tr>\n",
       "    <tr>\n",
       "      <th>max</th>\n",
       "      <td>3.648724e+07</td>\n",
       "      <td>2.743213e+08</td>\n",
       "      <td>10000.000000</td>\n",
       "      <td>1250.000000</td>\n",
       "      <td>629.000000</td>\n",
       "      <td>327.000000</td>\n",
       "      <td>365.000000</td>\n",
       "    </tr>\n",
       "  </tbody>\n",
       "</table>\n",
       "</div>"
      ],
      "text/plain": [
       "                 id       host_id         price  minimum_nights  \\\n",
       "count  4.889500e+04  4.889500e+04  48895.000000    48895.000000   \n",
       "mean   1.901714e+07  6.762001e+07    152.720687        7.029962   \n",
       "std    1.098311e+07  7.861097e+07    240.154170       20.510550   \n",
       "min    2.539000e+03  2.438000e+03      0.000000        1.000000   \n",
       "25%    9.471945e+06  7.822033e+06     69.000000        1.000000   \n",
       "50%    1.967728e+07  3.079382e+07    106.000000        3.000000   \n",
       "75%    2.915218e+07  1.074344e+08    175.000000        5.000000   \n",
       "max    3.648724e+07  2.743213e+08  10000.000000     1250.000000   \n",
       "\n",
       "       number_of_reviews  calculated_host_listings_count  availability_365  \n",
       "count       48895.000000                    48895.000000      48895.000000  \n",
       "mean           23.274466                        7.143982        112.781327  \n",
       "std            44.550582                       32.952519        131.622289  \n",
       "min             0.000000                        1.000000          0.000000  \n",
       "25%             1.000000                        1.000000          0.000000  \n",
       "50%             5.000000                        1.000000         45.000000  \n",
       "75%            24.000000                        2.000000        227.000000  \n",
       "max           629.000000                      327.000000        365.000000  "
      ]
     },
     "execution_count": 15,
     "metadata": {},
     "output_type": "execute_result"
    }
   ],
   "source": [
    "df.describe()"
   ]
  },
  {
   "cell_type": "markdown",
   "id": "7585a98b",
   "metadata": {},
   "source": [
    "- We saw that the price column has some irregularity as the minimum price of the apartment is 0 i.e. free stay."
   ]
  },
  {
   "cell_type": "markdown",
   "id": "24d8d470",
   "metadata": {},
   "source": [
    "**Analyzing 'price' column** "
   ]
  },
  {
   "cell_type": "code",
   "execution_count": 16,
   "id": "0c89610b",
   "metadata": {},
   "outputs": [
    {
     "data": {
      "text/html": [
       "<div>\n",
       "<style scoped>\n",
       "    .dataframe tbody tr th:only-of-type {\n",
       "        vertical-align: middle;\n",
       "    }\n",
       "\n",
       "    .dataframe tbody tr th {\n",
       "        vertical-align: top;\n",
       "    }\n",
       "\n",
       "    .dataframe thead th {\n",
       "        text-align: right;\n",
       "    }\n",
       "</style>\n",
       "<table border=\"1\" class=\"dataframe\">\n",
       "  <thead>\n",
       "    <tr style=\"text-align: right;\">\n",
       "      <th></th>\n",
       "      <th>id</th>\n",
       "      <th>host_id</th>\n",
       "      <th>host_name</th>\n",
       "      <th>neighbourhood_group</th>\n",
       "      <th>neighbourhood</th>\n",
       "      <th>room_type</th>\n",
       "      <th>price</th>\n",
       "      <th>minimum_nights</th>\n",
       "      <th>number_of_reviews</th>\n",
       "      <th>calculated_host_listings_count</th>\n",
       "      <th>availability_365</th>\n",
       "    </tr>\n",
       "  </thead>\n",
       "  <tbody>\n",
       "    <tr>\n",
       "      <th>23161</th>\n",
       "      <td>18750597</td>\n",
       "      <td>8993084</td>\n",
       "      <td>Kimberly</td>\n",
       "      <td>Brooklyn</td>\n",
       "      <td>Bedford-Stuyvesant</td>\n",
       "      <td>Private room</td>\n",
       "      <td>0</td>\n",
       "      <td>4</td>\n",
       "      <td>1</td>\n",
       "      <td>4</td>\n",
       "      <td>28</td>\n",
       "    </tr>\n",
       "    <tr>\n",
       "      <th>25433</th>\n",
       "      <td>20333471</td>\n",
       "      <td>131697576</td>\n",
       "      <td>Anisha</td>\n",
       "      <td>Bronx</td>\n",
       "      <td>East Morrisania</td>\n",
       "      <td>Private room</td>\n",
       "      <td>0</td>\n",
       "      <td>2</td>\n",
       "      <td>55</td>\n",
       "      <td>4</td>\n",
       "      <td>127</td>\n",
       "    </tr>\n",
       "    <tr>\n",
       "      <th>25634</th>\n",
       "      <td>20523843</td>\n",
       "      <td>15787004</td>\n",
       "      <td>Martial Loft</td>\n",
       "      <td>Brooklyn</td>\n",
       "      <td>Bushwick</td>\n",
       "      <td>Private room</td>\n",
       "      <td>0</td>\n",
       "      <td>2</td>\n",
       "      <td>16</td>\n",
       "      <td>5</td>\n",
       "      <td>0</td>\n",
       "    </tr>\n",
       "    <tr>\n",
       "      <th>25753</th>\n",
       "      <td>20608117</td>\n",
       "      <td>1641537</td>\n",
       "      <td>Lauren</td>\n",
       "      <td>Brooklyn</td>\n",
       "      <td>Greenpoint</td>\n",
       "      <td>Private room</td>\n",
       "      <td>0</td>\n",
       "      <td>2</td>\n",
       "      <td>12</td>\n",
       "      <td>2</td>\n",
       "      <td>0</td>\n",
       "    </tr>\n",
       "    <tr>\n",
       "      <th>25778</th>\n",
       "      <td>20624541</td>\n",
       "      <td>10132166</td>\n",
       "      <td>Aymeric</td>\n",
       "      <td>Brooklyn</td>\n",
       "      <td>Williamsburg</td>\n",
       "      <td>Entire home/apt</td>\n",
       "      <td>0</td>\n",
       "      <td>5</td>\n",
       "      <td>3</td>\n",
       "      <td>1</td>\n",
       "      <td>73</td>\n",
       "    </tr>\n",
       "  </tbody>\n",
       "</table>\n",
       "</div>"
      ],
      "text/plain": [
       "             id    host_id     host_name neighbourhood_group  \\\n",
       "23161  18750597    8993084      Kimberly            Brooklyn   \n",
       "25433  20333471  131697576        Anisha               Bronx   \n",
       "25634  20523843   15787004  Martial Loft            Brooklyn   \n",
       "25753  20608117    1641537        Lauren            Brooklyn   \n",
       "25778  20624541   10132166       Aymeric            Brooklyn   \n",
       "\n",
       "            neighbourhood        room_type  price  minimum_nights  \\\n",
       "23161  Bedford-Stuyvesant     Private room      0               4   \n",
       "25433     East Morrisania     Private room      0               2   \n",
       "25634            Bushwick     Private room      0               2   \n",
       "25753          Greenpoint     Private room      0               2   \n",
       "25778        Williamsburg  Entire home/apt      0               5   \n",
       "\n",
       "       number_of_reviews  calculated_host_listings_count  availability_365  \n",
       "23161                  1                               4                28  \n",
       "25433                 55                               4               127  \n",
       "25634                 16                               5                 0  \n",
       "25753                 12                               2                 0  \n",
       "25778                  3                               1                73  "
      ]
     },
     "execution_count": 16,
     "metadata": {},
     "output_type": "execute_result"
    }
   ],
   "source": [
    "df.loc[df['price'] <= 0].head()"
   ]
  },
  {
   "cell_type": "markdown",
   "id": "e1e3ea0a",
   "metadata": {},
   "source": [
    "  *Replace zeros with NaN*\n"
   ]
  },
  {
   "cell_type": "code",
   "execution_count": 17,
   "id": "849c378b",
   "metadata": {},
   "outputs": [],
   "source": [
    "df['price'].replace(0,np.nan,inplace = True)"
   ]
  },
  {
   "cell_type": "markdown",
   "id": "488acd44",
   "metadata": {},
   "source": [
    "*Replacing zero with median*"
   ]
  },
  {
   "cell_type": "code",
   "execution_count": 18,
   "id": "1ae667bf",
   "metadata": {},
   "outputs": [],
   "source": [
    "df.fillna(value=df['price'].median(), inplace=True)"
   ]
  },
  {
   "cell_type": "code",
   "execution_count": 19,
   "id": "a2131a68",
   "metadata": {},
   "outputs": [
    {
     "data": {
      "text/plain": [
       "10.0"
      ]
     },
     "execution_count": 19,
     "metadata": {},
     "output_type": "execute_result"
    }
   ],
   "source": [
    "df['price'].min()"
   ]
  },
  {
   "cell_type": "markdown",
   "id": "edcc18a9",
   "metadata": {},
   "source": [
    "- We have successfully replaced zero with median"
   ]
  },
  {
   "cell_type": "markdown",
   "id": "779e8292",
   "metadata": {},
   "source": [
    "##### Arbnbs Having most number of Reviews"
   ]
  },
  {
   "cell_type": "code",
   "execution_count": 20,
   "id": "5c686270",
   "metadata": {},
   "outputs": [
    {
     "data": {
      "text/html": [
       "<div>\n",
       "<style scoped>\n",
       "    .dataframe tbody tr th:only-of-type {\n",
       "        vertical-align: middle;\n",
       "    }\n",
       "\n",
       "    .dataframe tbody tr th {\n",
       "        vertical-align: top;\n",
       "    }\n",
       "\n",
       "    .dataframe thead th {\n",
       "        text-align: right;\n",
       "    }\n",
       "</style>\n",
       "<table border=\"1\" class=\"dataframe\">\n",
       "  <thead>\n",
       "    <tr style=\"text-align: right;\">\n",
       "      <th></th>\n",
       "      <th>id</th>\n",
       "      <th>host_id</th>\n",
       "      <th>host_name</th>\n",
       "      <th>neighbourhood_group</th>\n",
       "      <th>neighbourhood</th>\n",
       "      <th>room_type</th>\n",
       "      <th>price</th>\n",
       "      <th>minimum_nights</th>\n",
       "      <th>number_of_reviews</th>\n",
       "      <th>calculated_host_listings_count</th>\n",
       "      <th>availability_365</th>\n",
       "    </tr>\n",
       "  </thead>\n",
       "  <tbody>\n",
       "    <tr>\n",
       "      <th>11759</th>\n",
       "      <td>9145202</td>\n",
       "      <td>47621202</td>\n",
       "      <td>Dona</td>\n",
       "      <td>Queens</td>\n",
       "      <td>Jamaica</td>\n",
       "      <td>Private room</td>\n",
       "      <td>47.0</td>\n",
       "      <td>1</td>\n",
       "      <td>629</td>\n",
       "      <td>2</td>\n",
       "      <td>333</td>\n",
       "    </tr>\n",
       "    <tr>\n",
       "      <th>2031</th>\n",
       "      <td>903972</td>\n",
       "      <td>4734398</td>\n",
       "      <td>Jj</td>\n",
       "      <td>Manhattan</td>\n",
       "      <td>Harlem</td>\n",
       "      <td>Private room</td>\n",
       "      <td>49.0</td>\n",
       "      <td>1</td>\n",
       "      <td>607</td>\n",
       "      <td>3</td>\n",
       "      <td>293</td>\n",
       "    </tr>\n",
       "    <tr>\n",
       "      <th>2030</th>\n",
       "      <td>903947</td>\n",
       "      <td>4734398</td>\n",
       "      <td>Jj</td>\n",
       "      <td>Manhattan</td>\n",
       "      <td>Harlem</td>\n",
       "      <td>Private room</td>\n",
       "      <td>49.0</td>\n",
       "      <td>1</td>\n",
       "      <td>597</td>\n",
       "      <td>3</td>\n",
       "      <td>342</td>\n",
       "    </tr>\n",
       "    <tr>\n",
       "      <th>2015</th>\n",
       "      <td>891117</td>\n",
       "      <td>4734398</td>\n",
       "      <td>Jj</td>\n",
       "      <td>Manhattan</td>\n",
       "      <td>Harlem</td>\n",
       "      <td>Private room</td>\n",
       "      <td>49.0</td>\n",
       "      <td>1</td>\n",
       "      <td>594</td>\n",
       "      <td>3</td>\n",
       "      <td>339</td>\n",
       "    </tr>\n",
       "    <tr>\n",
       "      <th>13495</th>\n",
       "      <td>10101135</td>\n",
       "      <td>47621202</td>\n",
       "      <td>Dona</td>\n",
       "      <td>Queens</td>\n",
       "      <td>Jamaica</td>\n",
       "      <td>Private room</td>\n",
       "      <td>47.0</td>\n",
       "      <td>1</td>\n",
       "      <td>576</td>\n",
       "      <td>2</td>\n",
       "      <td>173</td>\n",
       "    </tr>\n",
       "  </tbody>\n",
       "</table>\n",
       "</div>"
      ],
      "text/plain": [
       "             id   host_id host_name neighbourhood_group neighbourhood  \\\n",
       "11759   9145202  47621202      Dona              Queens       Jamaica   \n",
       "2031     903972   4734398        Jj           Manhattan        Harlem   \n",
       "2030     903947   4734398        Jj           Manhattan        Harlem   \n",
       "2015     891117   4734398        Jj           Manhattan        Harlem   \n",
       "13495  10101135  47621202      Dona              Queens       Jamaica   \n",
       "\n",
       "          room_type  price  minimum_nights  number_of_reviews  \\\n",
       "11759  Private room   47.0               1                629   \n",
       "2031   Private room   49.0               1                607   \n",
       "2030   Private room   49.0               1                597   \n",
       "2015   Private room   49.0               1                594   \n",
       "13495  Private room   47.0               1                576   \n",
       "\n",
       "       calculated_host_listings_count  availability_365  \n",
       "11759                               2               333  \n",
       "2031                                3               293  \n",
       "2030                                3               342  \n",
       "2015                                3               339  \n",
       "13495                               2               173  "
      ]
     },
     "execution_count": 20,
     "metadata": {},
     "output_type": "execute_result"
    }
   ],
   "source": [
    "most_reviews = df.sort_values('number_of_reviews', ascending = False)\n",
    "most_reviews.head(5)"
   ]
  },
  {
   "cell_type": "markdown",
   "id": "d009025b",
   "metadata": {},
   "source": [
    "##### Cheapest Airbnbs in New York City"
   ]
  },
  {
   "cell_type": "code",
   "execution_count": 21,
   "id": "f2baeeb5",
   "metadata": {},
   "outputs": [
    {
     "data": {
      "text/html": [
       "<div>\n",
       "<style scoped>\n",
       "    .dataframe tbody tr th:only-of-type {\n",
       "        vertical-align: middle;\n",
       "    }\n",
       "\n",
       "    .dataframe tbody tr th {\n",
       "        vertical-align: top;\n",
       "    }\n",
       "\n",
       "    .dataframe thead th {\n",
       "        text-align: right;\n",
       "    }\n",
       "</style>\n",
       "<table border=\"1\" class=\"dataframe\">\n",
       "  <thead>\n",
       "    <tr style=\"text-align: right;\">\n",
       "      <th></th>\n",
       "      <th>id</th>\n",
       "      <th>host_id</th>\n",
       "      <th>host_name</th>\n",
       "      <th>neighbourhood_group</th>\n",
       "      <th>neighbourhood</th>\n",
       "      <th>room_type</th>\n",
       "      <th>price</th>\n",
       "      <th>minimum_nights</th>\n",
       "      <th>number_of_reviews</th>\n",
       "      <th>calculated_host_listings_count</th>\n",
       "      <th>availability_365</th>\n",
       "    </tr>\n",
       "  </thead>\n",
       "  <tbody>\n",
       "    <tr>\n",
       "      <th>31066</th>\n",
       "      <td>24114389</td>\n",
       "      <td>180661875</td>\n",
       "      <td>Salim</td>\n",
       "      <td>Manhattan</td>\n",
       "      <td>Upper West Side</td>\n",
       "      <td>Private room</td>\n",
       "      <td>10.0</td>\n",
       "      <td>1</td>\n",
       "      <td>2</td>\n",
       "      <td>1</td>\n",
       "      <td>0</td>\n",
       "    </tr>\n",
       "    <tr>\n",
       "      <th>33225</th>\n",
       "      <td>26235873</td>\n",
       "      <td>197169969</td>\n",
       "      <td>Maria</td>\n",
       "      <td>Queens</td>\n",
       "      <td>Jamaica</td>\n",
       "      <td>Entire home/apt</td>\n",
       "      <td>10.0</td>\n",
       "      <td>2</td>\n",
       "      <td>22</td>\n",
       "      <td>1</td>\n",
       "      <td>332</td>\n",
       "    </tr>\n",
       "    <tr>\n",
       "      <th>34446</th>\n",
       "      <td>27316669</td>\n",
       "      <td>205820814</td>\n",
       "      <td>Luz</td>\n",
       "      <td>Bronx</td>\n",
       "      <td>Highbridge</td>\n",
       "      <td>Private room</td>\n",
       "      <td>10.0</td>\n",
       "      <td>1</td>\n",
       "      <td>0</td>\n",
       "      <td>1</td>\n",
       "      <td>180</td>\n",
       "    </tr>\n",
       "    <tr>\n",
       "      <th>21700</th>\n",
       "      <td>17437106</td>\n",
       "      <td>33511962</td>\n",
       "      <td>Morgan</td>\n",
       "      <td>Manhattan</td>\n",
       "      <td>Harlem</td>\n",
       "      <td>Shared room</td>\n",
       "      <td>10.0</td>\n",
       "      <td>1</td>\n",
       "      <td>0</td>\n",
       "      <td>1</td>\n",
       "      <td>0</td>\n",
       "    </tr>\n",
       "    <tr>\n",
       "      <th>22835</th>\n",
       "      <td>18490141</td>\n",
       "      <td>97001292</td>\n",
       "      <td>Maria</td>\n",
       "      <td>Queens</td>\n",
       "      <td>Jamaica</td>\n",
       "      <td>Entire home/apt</td>\n",
       "      <td>10.0</td>\n",
       "      <td>1</td>\n",
       "      <td>43</td>\n",
       "      <td>1</td>\n",
       "      <td>252</td>\n",
       "    </tr>\n",
       "  </tbody>\n",
       "</table>\n",
       "</div>"
      ],
      "text/plain": [
       "             id    host_id host_name neighbourhood_group    neighbourhood  \\\n",
       "31066  24114389  180661875     Salim           Manhattan  Upper West Side   \n",
       "33225  26235873  197169969     Maria              Queens          Jamaica   \n",
       "34446  27316669  205820814       Luz               Bronx       Highbridge   \n",
       "21700  17437106   33511962    Morgan           Manhattan           Harlem   \n",
       "22835  18490141   97001292     Maria              Queens          Jamaica   \n",
       "\n",
       "             room_type  price  minimum_nights  number_of_reviews  \\\n",
       "31066     Private room   10.0               1                  2   \n",
       "33225  Entire home/apt   10.0               2                 22   \n",
       "34446     Private room   10.0               1                  0   \n",
       "21700      Shared room   10.0               1                  0   \n",
       "22835  Entire home/apt   10.0               1                 43   \n",
       "\n",
       "       calculated_host_listings_count  availability_365  \n",
       "31066                               1                 0  \n",
       "33225                               1               332  \n",
       "34446                               1               180  \n",
       "21700                               1                 0  \n",
       "22835                               1               252  "
      ]
     },
     "execution_count": 21,
     "metadata": {},
     "output_type": "execute_result"
    }
   ],
   "source": [
    "cheap_airbnb = df.sort_values('price', ascending = True)\n",
    "cheap_airbnb.head(5)"
   ]
  },
  {
   "cell_type": "markdown",
   "id": "a007e831",
   "metadata": {},
   "source": [
    "### Data Visualization\n",
    "- Visualize your data and search for pattern that can help you solve your problem."
   ]
  },
  {
   "cell_type": "code",
   "execution_count": 22,
   "id": "4a9bb40a",
   "metadata": {},
   "outputs": [
    {
     "data": {
      "text/plain": [
       "Text(0.5, 1.0, 'Room Type vs Price')"
      ]
     },
     "execution_count": 22,
     "metadata": {},
     "output_type": "execute_result"
    },
    {
     "data": {
      "image/png": "[encoded data removed]",
      "text/plain": [
       "<Figure size 576x504 with 1 Axes>"
      ]
     },
     "metadata": {
      "needs_background": "light"
     },
     "output_type": "display_data"
    }
   ],
   "source": [
    "plt.figure(figsize=(8,7))\n",
    "sns.scatterplot(x='room_type', y='price', data=df)\n",
    "plt.xlabel(\"Room Type\", size=13,weight='bold')\n",
    "plt.ylabel(\"Price\", size=13,weight='bold')\n",
    "plt.title(\"Room Type vs Price\",size=15, weight='bold')"
   ]
  },
  {
   "cell_type": "markdown",
   "id": "56723261",
   "metadata": {},
   "source": [
    "- A scatter can be a valuable tool for data analysis when trying to understand and analyze the relationships between different variables and identify patterns and trends in the data.\n",
    "\n",
    "- People prefer either Entire home/apt or private room rather than shared room\n",
    "\n"
   ]
  },
  {
   "cell_type": "code",
   "execution_count": 23,
   "id": "c93b8de5",
   "metadata": {},
   "outputs": [
    {
     "data": {
      "image/png": "[encoded data removed]",
      "text/plain": [
       "<Figure size 576x360 with 1 Axes>"
      ]
     },
     "metadata": {
      "needs_background": "light"
     },
     "output_type": "display_data"
    }
   ],
   "source": [
    "fig=plt.figure(figsize=(8,5))\n",
    "plt.scatter(x='price', y='number_of_reviews', data=df)\n",
    "plt.xlabel('Price',weight = 'bold',size=12)\n",
    "plt.ylabel('Number of reviews',weight = 'bold',size=12)\n",
    "plt.title('Number of Reviews VS Price',weight = 'bold',size=12)\n",
    "plt.show()    "
   ]
  },
  {
   "cell_type": "markdown",
   "id": "e97689df",
   "metadata": {},
   "source": [
    "- The distribution of prices is heavily skewed to the *right*.\n",
    "\n",
    "- From the above Analysis we can say that most people prefer to stay in place where price is less."
   ]
  },
  {
   "cell_type": "code",
   "execution_count": 24,
   "id": "c8f7021f",
   "metadata": {},
   "outputs": [
    {
     "data": {
      "text/plain": [
       "<AxesSubplot:>"
      ]
     },
     "execution_count": 24,
     "metadata": {},
     "output_type": "execute_result"
    },
    {
     "data": {
      "image/png": "[encoded data removed]",
      "text/plain": [
       "<Figure size 432x288 with 1 Axes>"
      ]
     },
     "metadata": {
      "needs_background": "light"
     },
     "output_type": "display_data"
    }
   ],
   "source": [
    "#lets take a closure look\n",
    "\n",
    "df[\"price\"].hist()"
   ]
  },
  {
   "cell_type": "markdown",
   "id": "ae13519a",
   "metadata": {},
   "source": [
    "- Most listings have **price less than $1000**"
   ]
  },
  {
   "cell_type": "markdown",
   "id": "8b55f725",
   "metadata": {},
   "source": [
    "\n",
    "### Most listings in each Neighbourhood Group"
   ]
  },
  {
   "cell_type": "code",
   "execution_count": 25,
   "id": "8178a254",
   "metadata": {},
   "outputs": [
    {
     "data": {
      "text/plain": [
       "Manhattan        21661\n",
       "Brooklyn         20104\n",
       "Queens            5666\n",
       "Bronx             1091\n",
       "Staten Island      373\n",
       "Name: neighbourhood_group, dtype: int64"
      ]
     },
     "execution_count": 25,
     "metadata": {},
     "output_type": "execute_result"
    }
   ],
   "source": [
    "df['neighbourhood_group'].value_counts()"
   ]
  },
  {
   "cell_type": "code",
   "execution_count": 26,
   "id": "cbcb4c89",
   "metadata": {},
   "outputs": [
    {
     "data": {
      "text/plain": [
       "Text(0.5, 1.0, 'Number of Airbnb listings in each Borough')"
      ]
     },
     "execution_count": 26,
     "metadata": {},
     "output_type": "execute_result"
    },
    {
     "data": {
      "image/png": "[encoded data removed]",
      "text/plain": [
       "<Figure size 576x504 with 1 Axes>"
      ]
     },
     "metadata": {
      "needs_background": "light"
     },
     "output_type": "display_data"
    }
   ],
   "source": [
    "plt.figure(figsize=(8,7))\n",
    "sns.countplot(x='neighbourhood_group',\n",
    "                   data=df,palette='pastel')\n",
    "plt.ylabel('Count',weight = 'bold',size=12)\n",
    "plt.xlabel('Boroughs',weight = 'bold',size=12)\n",
    "plt.title('Number of Airbnb listings in each Borough')"
   ]
  },
  {
   "cell_type": "markdown",
   "id": "85133ec3",
   "metadata": {},
   "source": [
    "- After analyzing the data we found **Brooklyn** , **Manhattan** has the most number of  listings as we can see from above graph."
   ]
  },
  {
   "cell_type": "markdown",
   "id": "2fb5fcc5",
   "metadata": {},
   "source": [
    "### Which types of room occupied by a neighborhood."
   ]
  },
  {
   "cell_type": "code",
   "execution_count": 27,
   "id": "93309385",
   "metadata": {},
   "outputs": [
    {
     "data": {
      "image/png": "[encoded data removed]",
      "text/plain": [
       "<Figure size 1080x504 with 1 Axes>"
      ]
     },
     "metadata": {
      "needs_background": "light"
     },
     "output_type": "display_data"
    }
   ],
   "source": [
    "plt.figure(figsize=(15,7))\n",
    "plt.title(\"Room Type on Neighbourhood Group\",size = 14)\n",
    "sns.countplot(x= 'neighbourhood_group',data = df,hue=df.room_type, palette=\"pastel\")\n",
    "plt.show()"
   ]
  },
  {
   "cell_type": "markdown",
   "id": "6c521c50",
   "metadata": {},
   "source": [
    "- Amoung all different Neighbourhood Group **Manhattan and Brooklyn** has maximum airbnb and Staten Island has least airbnb.\n",
    "\n",
    "- We also note thar most listing are **entire home type followed by private room** and shared room which is the cheapest."
   ]
  },
  {
   "cell_type": "markdown",
   "id": "b85f37b5",
   "metadata": {},
   "source": [
    "###  Calculate the average price by neighbourhood_group"
   ]
  },
  {
   "cell_type": "code",
   "execution_count": 28,
   "id": "7e90f6de",
   "metadata": {
    "scrolled": true
   },
   "outputs": [
    {
     "data": {
      "text/plain": [
       "Text(0.5, 1.0, 'Price Point of neighbourhood_group')"
      ]
     },
     "execution_count": 28,
     "metadata": {},
     "output_type": "execute_result"
    },
    {
     "data": {
      "image/png": "[encoded data removed]",
      "text/plain": [
       "<Figure size 792x288 with 1 Axes>"
      ]
     },
     "metadata": {
      "needs_background": "light"
     },
     "output_type": "display_data"
    }
   ],
   "source": [
    "avg_price = df.groupby('neighbourhood_group')['price'].mean().reset_index().sort_values('price' ,ascending = False)\n",
    "plt.figure(figsize= (11,4))\n",
    "sns.lineplot(data = avg_price ,x='neighbourhood_group',y= 'price',marker = 'D',color= 'Black', linewidth= 4)\n",
    "plt.ylabel('price',weight = 'bold',size=12)\n",
    "plt.xlabel('neighbourhood_group',weight = 'bold',size=12)\n",
    "plt.title('Price Point of neighbourhood_group', weight = 'bold')"
   ]
  },
  {
   "cell_type": "markdown",
   "id": "e04e375e",
   "metadata": {},
   "source": [
    " **Insights found from the chart**\n",
    " \n",
    "- It appears that the average price of Airbnb listings in **Manhattan** is higher compared to other boroughs. Additionally, we found that **Staten Island** has a lower number of Airbnb listings, but the average price for those listings is relatively higher when compared to other boroughs.\n",
    " \n",
    "- In Manhattan, *the average price is 196*, which is competitive and offers good value for generating profitable revenue and enhancing brand perception.\n",
    "\n",
    "- However, in Staten Island, the average price is relatively high compared to the number of available Airbnb listings. This can potentially decrease demand and result in negative brand perception.\n"
   ]
  },
  {
   "cell_type": "markdown",
   "id": "6d570f9c",
   "metadata": {},
   "source": [
    "### Check top 10 busiest host"
   ]
  },
  {
   "cell_type": "code",
   "execution_count": 29,
   "id": "5f2bc3e3",
   "metadata": {},
   "outputs": [
    {
     "data": {
      "text/plain": [
       "<AxesSubplot:title={'center':'Which was the host max no. of times'}, xlabel='host_id', ylabel='count'>"
      ]
     },
     "execution_count": 29,
     "metadata": {},
     "output_type": "execute_result"
    },
    {
     "data": {
      "image/png": "[encoded data removed]",
      "text/plain": [
       "<Figure size 1080x504 with 1 Axes>"
      ]
     },
     "metadata": {
      "needs_background": "light"
     },
     "output_type": "display_data"
    }
   ],
   "source": [
    "plt.figure(figsize=(15, 7))\n",
    "plt.title(\"Which was the host max no. of times\")\n",
    "sns.countplot(x = \"host_id\", order=df['host_id'].value_counts().index[0:10] ,data=df,palette='Accent')"
   ]
  },
  {
   "cell_type": "markdown",
   "id": "ad32b32f",
   "metadata": {},
   "source": [
    "### Top 10 Host with Most Airbnb"
   ]
  },
  {
   "cell_type": "code",
   "execution_count": 30,
   "id": "4e56ada5",
   "metadata": {},
   "outputs": [
    {
     "data": {
      "image/png": "[encoded data removed]",
      "text/plain": [
       "<Figure size 1080x504 with 1 Axes>"
      ]
     },
     "metadata": {
      "needs_background": "light"
     },
     "output_type": "display_data"
    }
   ],
   "source": [
    "df_popular_host = df.groupby(['host_id','host_name'])['calculated_host_listings_count'\n",
    "                                ].max().reset_index().sort_values(\n",
    "                            'calculated_host_listings_count',ascending = False)[:10]\n",
    "plt.figure(figsize=(15, 7))\n",
    "sns.barplot(data= df_popular_host,x='host_name',y='calculated_host_listings_count')\n",
    "plt.xlabel(\"Host Name\", fontsize=15)\n",
    "plt.xticks(fontsize = 16, rotation = 120);\n",
    "plt.ylabel(\"Total Airbnb\", fontsize=15)\n",
    "plt.title('Top 10 Host with Most Airbnb', fontsize=20, color='purple');"
   ]
  },
  {
   "cell_type": "markdown",
   "id": "d0418f3f",
   "metadata": {},
   "source": [
    "### Which Hosts are charging higher price?"
   ]
  },
  {
   "cell_type": "code",
   "execution_count": 31,
   "id": "3fc81bd7",
   "metadata": {},
   "outputs": [],
   "source": [
    "\n",
    "df_price = df.groupby(['host_id','host_name','room_type','neighbourhood_group'])['price'].max().reset_index().sort_values(by='price',ascending=False).head(10)"
   ]
  },
  {
   "cell_type": "code",
   "execution_count": 38,
   "id": "8f54decf",
   "metadata": {},
   "outputs": [
    {
     "data": {
      "image/png": "[encoded data removed]",
      "text/plain": [
       "<Figure size 576x360 with 1 Axes>"
      ]
     },
     "metadata": {
      "needs_background": "light"
     },
     "output_type": "display_data"
    }
   ],
   "source": [
    "host_name = df_price['host_name']\n",
    "prices = df_price['price']\n",
    "fig= plt.figure(figsize=(8,5))\n",
    "plt.bar(host_name, prices ,color='pink',width=0.6)\n",
    "plt.xlabel('Name of the host')\n",
    "plt.ylabel('Price')\n",
    "plt.title(\"Hosts with maximum price charges\")\n",
    "plt.show()"
   ]
  },
  {
   "cell_type": "markdown",
   "id": "eb7dcfb5",
   "metadata": {},
   "source": [
    "- Maximum Price is 10000 USD by **Erin**"
   ]
  },
  {
   "cell_type": "markdown",
   "id": "3fe87115",
   "metadata": {},
   "source": [
    "### Top 10 neighbourhoods."
   ]
  },
  {
   "cell_type": "code",
   "execution_count": null,
   "id": "af33d228",
   "metadata": {},
   "outputs": [],
   "source": [
    "plt.figure(1, figsize=(15, 7))\n",
    "sns.countplot(x = \"neighbourhood\", order=df['neighbourhood'].value_counts().index[0:10] ,data=df)\n",
    "plt.title(\"Neighbourhood Counts\")"
   ]
  },
  {
   "cell_type": "markdown",
   "id": "9a1c20e8",
   "metadata": {},
   "source": [
    "### Minimum night stay"
   ]
  },
  {
   "cell_type": "code",
   "execution_count": 34,
   "id": "11cc8ce5",
   "metadata": {},
   "outputs": [
    {
     "data": {
      "text/plain": [
       "([<matplotlib.axis.XTick at 0x1f1bda00b20>,\n",
       "  <matplotlib.axis.XTick at 0x1f1bda00af0>,\n",
       "  <matplotlib.axis.XTick at 0x1f1bda00220>,\n",
       "  <matplotlib.axis.XTick at 0x1f1bdb487c0>,\n",
       "  <matplotlib.axis.XTick at 0x1f1bdb48790>,\n",
       "  <matplotlib.axis.XTick at 0x1f1bdb513d0>,\n",
       "  <matplotlib.axis.XTick at 0x1f1bdb51b20>,\n",
       "  <matplotlib.axis.XTick at 0x1f1bdb562b0>,\n",
       "  <matplotlib.axis.XTick at 0x1f1bdb56a00>],\n",
       " [Text(1, 0, '1'),\n",
       "  Text(5, 0, '5'),\n",
       "  Text(10, 0, '10'),\n",
       "  Text(15, 0, '15'),\n",
       "  Text(20, 0, '20'),\n",
       "  Text(25, 0, '25'),\n",
       "  Text(30, 0, '30'),\n",
       "  Text(35, 0, '35'),\n",
       "  Text(40, 0, '40')])"
      ]
     },
     "execution_count": 34,
     "metadata": {},
     "output_type": "execute_result"
    },
    {
     "data": {
      "image/png": "[encoded data removed]",
      "text/plain": [
       "<Figure size 576x432 with 1 Axes>"
      ]
     },
     "metadata": {
      "needs_background": "light"
     },
     "output_type": "display_data"
    }
   ],
   "source": [
    "plt.figure(figsize=(8, 6))\n",
    "sns.countplot(x='minimum_nights', data = df)\n",
    "plt.xlim(0, 40)\n",
    "tick = [1,5,10,15,20,25,30,35,40]\n",
    "plt.xticks(tick, tick)"
   ]
  },
  {
   "cell_type": "markdown",
   "id": "13f2ee57",
   "metadata": {},
   "source": [
    "- It seems that most listings have a minimum stay requirement of **less than 5 days**, but there are some listings that allow guests to stay for *a month or more*. \n",
    "- The countplot can provide a visual representation of the distribution of minimum nights for the listings in the dataframe."
   ]
  },
  {
   "cell_type": "markdown",
   "id": "440f1d7a",
   "metadata": {},
   "source": [
    "### Minimum nights for bookings"
   ]
  },
  {
   "cell_type": "code",
   "execution_count": 33,
   "id": "14402d41",
   "metadata": {},
   "outputs": [
    {
     "data": {
      "text/plain": [
       "<AxesSubplot:>"
      ]
     },
     "execution_count": 33,
     "metadata": {},
     "output_type": "execute_result"
    },
    {
     "data": {
      "image/png": "[encoded data removed]",
      "text/plain": [
       "<Figure size 432x288 with 1 Axes>"
      ]
     },
     "metadata": {
      "needs_background": "light"
     },
     "output_type": "display_data"
    }
   ],
   "source": [
    "df['minimum_nights'].hist()"
   ]
  },
  {
   "cell_type": "markdown",
   "id": "a6dc438b",
   "metadata": {},
   "source": [
    "- It appears that the majority of bookings have a minimum night requirement of **1 to 100 nights**"
   ]
  },
  {
   "cell_type": "code",
   "execution_count": null,
   "id": "261cead1",
   "metadata": {},
   "outputs": [],
   "source": [
    "plt.style.use('fivethirtyeight')\n",
    "plt.figure(figsize=(13,7))\n",
    "plt.title(\"Neighbourhood Group\")\n",
    "plt.pie(df['neighbourhood_group'].value_counts(), labels=df['neighbourhood_group'].value_counts().index,autopct='%1.1f%%', startangle=180)\n",
    "plt.show()"
   ]
  },
  {
   "cell_type": "markdown",
   "id": "6b7d150c",
   "metadata": {},
   "source": [
    "- Brooklyn may have a smaller slice, indicating that it has a lesser share of listings compared to Manhattan. The chart may also have been overlaid on a map of New York City neighborhoods, with the slices positioned near the corresponding neighborhood groups to visually represent the geographical distribution of listings."
   ]
  },
  {
   "cell_type": "markdown",
   "id": "55228528",
   "metadata": {},
   "source": [
    "### What recommendations would you suggest to the client in order to achieve their business objectives?"
   ]
  },
  {
   "cell_type": "markdown",
   "id": "2b9d8891",
   "metadata": {},
   "source": [
    "- Based on our visualization, it is evident that the demand for entire home type /private rooms is the highest. Therefore, we recommend our host to prioritize providing maximum entire home type /private rooms to cater to this demand.\n",
    "\n",
    "- Considering that Manhattan and Brooklyn are popular neighborhoods with many tourist attractions, and the demand for accommodation is high in these areas, we suggest Airbnb to expand their business in these neighborhoods to tap into the potential market.\n",
    "\n",
    "- Additionally, our analysis revealed that most guests prefer staying in rooms priced between 0 to 2000. Hence, Airbnb should focus on offering listings within this price range to cater to the preferences of potential guests."
   ]
  },
  {
   "cell_type": "markdown",
   "id": "41ee9e95",
   "metadata": {},
   "source": [
    "# Conclusion"
   ]
  },
  {
   "cell_type": "markdown",
   "id": "b8c2dc50",
   "metadata": {},
   "source": [
    "- Amoung all different area **Manhattan and Brooklyn** has maximum airbnb and Staten Island has least airbnb.\n",
    "- Most people prefer to pay **less price**.\n",
    "- **Sounder (NYC)** is the most popular host with the highest number of airbnb listings.\n",
    "- Private rooms are more in **Brooklyn** than any other groups.\n",
    "- Shared rooms are more in **Manhattan** followed by **Brooklyn**.\n",
    "- **Entire home/apt** is expensive than **Private room** and 'Shared room'. And **Shared rooms** has price per night is very low.\n",
    "-Most listings have a minimum stay requirement of **less than 5 days**\n"
   ]
  },
  {
   "cell_type": "code",
   "execution_count": null,
   "id": "d6a74233",
   "metadata": {},
   "outputs": [],
   "source": []
  }
 ],
 "metadata": {
  "kernelspec": {
   "display_name": "Python 3 (ipykernel)",
   "language": "python",
   "name": "python3"
  },
  "language_info": {
   "codemirror_mode": {
    "name": "ipython",
    "version": 3
   },
   "file_extension": ".py",
   "mimetype": "text/x-python",
   "name": "python",
   "nbconvert_exporter": "python",
   "pygments_lexer": "ipython3",
   "version": "3.8.10"
  }
 },
 "nbformat": 4,
 "nbformat_minor": 5
}
